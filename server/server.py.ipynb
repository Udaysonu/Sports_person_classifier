{
 "cells": [
  {
   "cell_type": "code",
   "execution_count": 21,
   "metadata": {},
   "outputs": [],
   "source": [
    "from flask import Flask,request,jsonify\n",
    "import joblib\n",
    "import json\n",
    "import numpy as np\n",
    "import base64\n",
    "import cv2\n",
    "from tensorflow import keras"
   ]
  },
  {
   "cell_type": "markdown",
   "metadata": {},
   "source": [
    "# Loads different Functions, Variables and Models which are used when we get request to the server"
   ]
  },
  {
   "cell_type": "code",
   "execution_count": 22,
   "metadata": {},
   "outputs": [],
   "source": [
    "\n",
    "__class_name_to_number = {}\n",
    "__class_number_to_name = {}\n",
    "\n",
    "__model = None\n",
    "__model_CNN=None\n",
    "\n",
    "# Function which should be called for loading all the Models\n",
    "def load_saved_artifacts():\n",
    "    print(\"loading saved artifacts...start\")\n",
    "    global __class_name_to_number\n",
    "    global __class_number_to_name\n",
    "\n",
    "    with open(\"./artifacts/class_dict.json\", \"r\") as f:\n",
    "        __class_name_to_number = json.load(f)\n",
    "        __class_number_to_name = {v:k for k,v in __class_name_to_number.items()}\n",
    "\n",
    "    global __model\n",
    "    global __model_CNN\n",
    "    if __model is None:\n",
    "        with open('./artifacts/saved_model.pkl', 'rb') as f:\n",
    "            __model = joblib.load(f)\n",
    "    if __model_CNN is None:\n",
    "        __model_CNN = keras.models.load_model('save_model_CNN')\n",
    "    print(\"loading saved artifacts...done\")\n",
    "\n",
    "\n",
    "#Function to perform classifcation \n",
    "def classify_image1(image_base64_data, CNN=False,file_path=None):\n",
    "\n",
    "    imgs = get_cropped_image_if_2_eyes(file_path, image_base64_data)\n",
    "\n",
    "    result = []\n",
    "    \n",
    "    ## If CNN is false perform use Logistic regression to perform classification else\n",
    "    ## use Convolution Neural Network to perform classification\n",
    "    if CNN==False:\n",
    "        for img in imgs:\n",
    "            scalled_raw_img = cv2.resize(img, (32, 32))\n",
    "            combined_img = scalled_raw_img.reshape(32 * 32 * 3, 1)\n",
    "\n",
    "            len_image_array = 32*32*3 \n",
    "\n",
    "            final = combined_img.reshape(1,len_image_array).astype(float)\n",
    "            print(\"logistic\",__model.predict_proba(final))\n",
    "            result.append({\n",
    "                'class': class_number_to_name(__model.predict(final)[0]),\n",
    "                'class_probability': np.around(__model.predict_proba(final)*100,2).tolist()[0],\n",
    "                'class_dictionary': __class_name_to_number\n",
    "            })\n",
    "    else:\n",
    "        for img in imgs:\n",
    "            scalled_raw_img = cv2.resize(img, (32, 32))\n",
    "            combined_img = scalled_raw_img.reshape(1,32,32,3,1)\n",
    "            final = combined_img.reshape(1,32,32,3,1).astype(float)\n",
    "            ans=__model_CNN.predict(final)[0]\n",
    "            cls_prob=[]\n",
    "            print(\"neural network\",ans)\n",
    "            for i in ans:\n",
    "                cls_prob.append(round(i*100,2))\n",
    "            result.append({\n",
    "                'class': class_number_to_name(np.argmax(ans)),\n",
    "                'class_probability':cls_prob,\n",
    "                'class_dictionary': __class_name_to_number\n",
    "            })\n",
    "    return result\n",
    "\n",
    "# Funciton to convert the number to class_name\n",
    "def class_number_to_name(class_num):\n",
    "    return __class_number_to_name[class_num]\n",
    "\n",
    "# Funciton to convert the image in base 64 string format to normal image format which OpenCV can understand\n",
    "def get_cv2_image_from_base64_string(b64str):\n",
    "    '''\n",
    "    credit: https://stackoverflow.com/questions/33754935/read-a-base-64-encoded-image-from-memory-using-opencv-python-library\n",
    "    :param uri:\n",
    "    :return:\n",
    "    '''\n",
    "    encoded_data = b64str.split(',')[1]\n",
    "    nparr = np.frombuffer(base64.b64decode(encoded_data), np.uint8)\n",
    "    img = cv2.imdecode(nparr, cv2.IMREAD_COLOR)\n",
    "    return img\n",
    "\n",
    "# Function returns face of the Image if its two eyes are detected else returns None\n",
    "def get_cropped_image_if_2_eyes(image_path, image_base64_data):\n",
    "    face_cascade = cv2.CascadeClassifier('./opencv/haarcascades/haarcascade_frontalface_default.xml')\n",
    "    eye_cascade = cv2.CascadeClassifier('./opencv/haarcascades/haarcascade_eye.xml')\n",
    "\n",
    "    if image_path:\n",
    "        img = cv2.imread(image_path)\n",
    "    else:\n",
    "        img = get_cv2_image_from_base64_string(image_base64_data)\n",
    "\n",
    "    gray = cv2.cvtColor(img, cv2.COLOR_BGR2GRAY)\n",
    "    faces = face_cascade.detectMultiScale(gray, 1.3, 5)\n",
    "\n",
    "    cropped_faces = []\n",
    "    for (x,y,w,h) in faces:\n",
    "            roi_gray = gray[y:y+h, x:x+w]\n",
    "            roi_color = img[y:y+h, x:x+w]\n",
    "            eyes = eye_cascade.detectMultiScale(roi_gray)\n",
    "            if len(eyes) >= 2:\n",
    "                cropped_faces.append(roi_color)\n",
    "    return cropped_faces\n"
   ]
  },
  {
   "cell_type": "markdown",
   "metadata": {},
   "source": [
    "# Server which takes requests and send responses"
   ]
  },
  {
   "cell_type": "code",
   "execution_count": 26,
   "metadata": {
    "scrolled": true
   },
   "outputs": [
    {
     "name": "stderr",
     "output_type": "stream",
     "text": [
      " * Running on http://127.0.0.1:5000/ (Press CTRL+C to quit)\n"
     ]
    },
    {
     "name": "stdout",
     "output_type": "stream",
     "text": [
      "loading saved artifacts...start\n",
      "loading saved artifacts...done\n"
     ]
    },
    {
     "name": "stderr",
     "output_type": "stream",
     "text": [
      "127.0.0.1 - - [24/Mar/2021 15:47:25] \"\u001b[37mPOST /classify_image HTTP/1.1\u001b[0m\" 200 -\n"
     ]
    },
    {
     "name": "stdout",
     "output_type": "stream",
     "text": [
      "logistic [[0.91958059 0.02980842 0.01684404 0.01037335 0.02339359]]\n"
     ]
    },
    {
     "name": "stderr",
     "output_type": "stream",
     "text": [
      "127.0.0.1 - - [24/Mar/2021 15:47:48] \"\u001b[37mPOST /classify_image_cnn HTTP/1.1\u001b[0m\" 200 -\n"
     ]
    },
    {
     "name": "stdout",
     "output_type": "stream",
     "text": [
      "neural network [1.0000000e+00 1.2365463e-15 1.2919439e-10 8.4281138e-11 2.1950417e-16]\n"
     ]
    },
    {
     "name": "stderr",
     "output_type": "stream",
     "text": [
      "127.0.0.1 - - [24/Mar/2021 15:48:27] \"\u001b[37mPOST /classify_image HTTP/1.1\u001b[0m\" 200 -\n"
     ]
    },
    {
     "name": "stdout",
     "output_type": "stream",
     "text": [
      "logistic [[0.07255941 0.03956047 0.06013876 0.23884936 0.588892  ]]\n"
     ]
    },
    {
     "name": "stderr",
     "output_type": "stream",
     "text": [
      "127.0.0.1 - - [24/Mar/2021 15:48:49] \"\u001b[37mPOST /classify_image_cnn HTTP/1.1\u001b[0m\" 200 -\n"
     ]
    },
    {
     "name": "stdout",
     "output_type": "stream",
     "text": [
      "neural network [2.0058777e-10 2.4067427e-20 1.3833501e-16 1.2937450e-16 1.0000000e+00]\n"
     ]
    },
    {
     "name": "stderr",
     "output_type": "stream",
     "text": [
      "127.0.0.1 - - [24/Mar/2021 15:49:51] \"\u001b[37mPOST /classify_image HTTP/1.1\u001b[0m\" 200 -\n"
     ]
    },
    {
     "name": "stdout",
     "output_type": "stream",
     "text": [
      "logistic [[0.02737998 0.00417902 0.01260541 0.01686788 0.93896771]]\n",
      "logistic [[0.07887434 0.24593324 0.17508252 0.46322492 0.03688499]]\n"
     ]
    },
    {
     "name": "stderr",
     "output_type": "stream",
     "text": [
      "127.0.0.1 - - [24/Mar/2021 15:50:00] \"\u001b[37mPOST /classify_image_cnn HTTP/1.1\u001b[0m\" 200 -\n"
     ]
    },
    {
     "name": "stdout",
     "output_type": "stream",
     "text": [
      "neural network [3.3589151e-12 2.4434289e-22 1.0484968e-19 1.4613178e-20 1.0000000e+00]\n",
      "neural network [4.9759064e-02 2.8992098e-02 4.9464417e-01 4.2645380e-01 1.5085109e-04]\n"
     ]
    },
    {
     "name": "stderr",
     "output_type": "stream",
     "text": [
      "127.0.0.1 - - [24/Mar/2021 15:50:06] \"\u001b[37mPOST /classify_image HTTP/1.1\u001b[0m\" 200 -\n"
     ]
    },
    {
     "name": "stdout",
     "output_type": "stream",
     "text": [
      "logistic [[0.02737998 0.00417902 0.01260541 0.01686788 0.93896771]]\n",
      "logistic [[0.07887434 0.24593324 0.17508252 0.46322492 0.03688499]]\n"
     ]
    },
    {
     "name": "stderr",
     "output_type": "stream",
     "text": [
      "127.0.0.1 - - [24/Mar/2021 15:50:48] \"\u001b[37mPOST /classify_image HTTP/1.1\u001b[0m\" 200 -\n"
     ]
    },
    {
     "name": "stdout",
     "output_type": "stream",
     "text": [
      "logistic [[0.08992    0.02123942 0.40801141 0.15349732 0.32733185]]\n"
     ]
    },
    {
     "name": "stderr",
     "output_type": "stream",
     "text": [
      "127.0.0.1 - - [24/Mar/2021 15:50:57] \"\u001b[37mPOST /classify_image_cnn HTTP/1.1\u001b[0m\" 200 -\n"
     ]
    },
    {
     "name": "stdout",
     "output_type": "stream",
     "text": [
      "neural network [3.59059404e-09 2.14742779e-15 1.00000000e+00 4.91091022e-11\n",
      " 1.04720836e-10]\n"
     ]
    },
    {
     "name": "stderr",
     "output_type": "stream",
     "text": [
      "127.0.0.1 - - [24/Mar/2021 15:51:03] \"\u001b[37mPOST /classify_image HTTP/1.1\u001b[0m\" 200 -\n"
     ]
    },
    {
     "name": "stdout",
     "output_type": "stream",
     "text": [
      "logistic [[0.08992    0.02123942 0.40801141 0.15349732 0.32733185]]\n"
     ]
    },
    {
     "name": "stderr",
     "output_type": "stream",
     "text": [
      "127.0.0.1 - - [24/Mar/2021 15:52:06] \"\u001b[37mPOST /classify_image HTTP/1.1\u001b[0m\" 200 -\n"
     ]
    },
    {
     "name": "stdout",
     "output_type": "stream",
     "text": [
      "logistic [[0.02339079 0.07818702 0.06198844 0.39692641 0.43950734]]\n"
     ]
    },
    {
     "name": "stderr",
     "output_type": "stream",
     "text": [
      "127.0.0.1 - - [24/Mar/2021 15:52:32] \"\u001b[37mPOST /classify_image_cnn HTTP/1.1\u001b[0m\" 200 -\n"
     ]
    },
    {
     "name": "stdout",
     "output_type": "stream",
     "text": [
      "neural network [7.7101014e-08 2.6373511e-05 9.9969065e-01 3.6494450e-06 2.7926906e-04]\n"
     ]
    }
   ],
   "source": [
    "app=Flask(__name__)\n",
    "load_saved_artifacts()\n",
    "@app.route(\"/hello\")\n",
    "def hello():\n",
    "    return 'hi'\n",
    "\n",
    "@app.route('/classify_image', methods=['POST'])\n",
    "def classify_image():\n",
    "    image_data = request.form['image_data']\n",
    "    data=classify_image1(image_data)\n",
    "    response = jsonify(data)\n",
    "    response.headers.add('Access-Control-Allow-Origin', '*')\n",
    "    return response\n",
    "\n",
    "@app.route('/classify_image_cnn',methods=['POST'])\n",
    "def classify_image_CNN():\n",
    "    image_data = request.form['image_data']\n",
    "    data=classify_image1(image_data,CNN=True)\n",
    "    response = jsonify(data)\n",
    "    response.headers.add('Access-Control-Allow-Origin', '*')\n",
    "    return response\n",
    "\n",
    "app.run(port=5000)"
   ]
  },
  {
   "cell_type": "code",
   "execution_count": null,
   "metadata": {},
   "outputs": [],
   "source": []
  }
 ],
 "metadata": {
  "kernelspec": {
   "display_name": "Python 3",
   "language": "python",
   "name": "python3"
  },
  "language_info": {
   "codemirror_mode": {
    "name": "ipython",
    "version": 3
   },
   "file_extension": ".py",
   "mimetype": "text/x-python",
   "name": "python",
   "nbconvert_exporter": "python",
   "pygments_lexer": "ipython3",
   "version": "3.7.4"
  }
 },
 "nbformat": 4,
 "nbformat_minor": 2
}
